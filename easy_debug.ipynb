{
 "cells": [
  {
   "cell_type": "code",
   "execution_count": 36,
   "metadata": {},
   "outputs": [],
   "source": [
    "import pandas as pd\n",
    "import yfinance as yf\n",
    "import os\n",
    "from datetime import datetime, timedelta\n",
    "import numpy as np\n",
    "\n",
    "import py_vollib.black_scholes.greeks.analytical as greeks\n",
    "from py_vollib.black_scholes_merton.implied_volatility import implied_volatility\n",
    "import pandas_datareader.data as web\n",
    "import pandas as pd "
   ]
  },
  {
   "cell_type": "code",
   "execution_count": 37,
   "metadata": {},
   "outputs": [],
   "source": [
    "\n",
    "# Define a function to calculate days until a target date\n",
    "def days_until(date_str):\n",
    "    target_date = datetime.strptime(date_str, '%Y-%m-%d').date()\n",
    "    current_date = datetime.now().date()\n",
    "    days_until_target = (target_date - current_date).days\n",
    "    return days_until_target\n",
    "\n",
    "\n",
    "def get_greeks(row):\n",
    "    # Get today's 1-year Treasury Rate\n",
    "    today = datetime.today()\n",
    "    yesterday = today - timedelta(days=3)\n",
    "    treasury_rate_1yr = web.DataReader('DGS1', 'fred', yesterday, today).iloc[-1].values[0]\n",
    "\n",
    "    T = row['days_until'] / 365\n",
    "    r = treasury_rate_1yr / 100  # Risk-free rate (annual)\n",
    "\n",
    "    # Use scalar values for implied_volatility\n",
    "    sigma = implied_volatility(row['lastPrice'], row['Stock_price'], row['strike'], T, r, 0, 'p')\n",
    "\n",
    "    # Calculate the Greeks\n",
    "    return pd.Series({\n",
    "        'Delta': greeks.delta('p', row['Stock_price'], row['strike'], T, r, sigma),\n",
    "        'Gamma': greeks.gamma('p', row['Stock_price'], row['strike'], T, r, sigma),\n",
    "        'Vega': greeks.vega('p', row['Stock_price'], row['strike'], T, r, sigma),\n",
    "        'Theta': greeks.theta('p', row['Stock_price'], row['strike'], T, r, sigma),\n",
    "        'Rho': greeks.rho('p', row['Stock_price'], row['strike'], T, r, sigma),\n",
    "        'Implied_vol (%)': sigma * 100\n",
    "    })\n"
   ]
  },
  {
   "cell_type": "code",
   "execution_count": 38,
   "metadata": {},
   "outputs": [],
   "source": [
    "if os.getcwd() != '/Users/blakeuribe/Desktop/PyOptions':\n",
    "    os.chdir('..') \n",
    "\n",
    "nyse_symbols = pd.read_csv('data/raw_data/nasdaq_screener_1725126512148.csv')['Symbol'].unique()"
   ]
  },
  {
   "cell_type": "code",
   "execution_count": 39,
   "metadata": {},
   "outputs": [],
   "source": [
    "#  Global \n",
    "days_to_expiration = 60 #less than\n",
    "option_vol = 100 #greater than \n",
    "open_int = 500 #less than \n",
    "option_type = 'p'\n",
    "\n",
    "# delta = [0.20, 0.40] #between \n"
   ]
  },
  {
   "cell_type": "code",
   "execution_count": 40,
   "metadata": {},
   "outputs": [
    {
     "data": {
      "text/plain": [
       "()"
      ]
     },
     "execution_count": 40,
     "metadata": {},
     "output_type": "execute_result"
    }
   ],
   "source": [
    "ticker = yf.Ticker('not a ticker').options\n",
    "ticker"
   ]
  },
  {
   "cell_type": "code",
   "execution_count": 42,
   "metadata": {},
   "outputs": [
    {
     "name": "stdout",
     "output_type": "stream",
     "text": [
      "['A' 'AA' 'AACG' 'AACT' 'AADI']\n"
     ]
    },
    {
     "ename": "ValueError",
     "evalue": "No objects to concatenate",
     "output_type": "error",
     "traceback": [
      "\u001b[0;31m---------------------------------------------------------------------------\u001b[0m",
      "\u001b[0;31mValueError\u001b[0m                                Traceback (most recent call last)",
      "Cell \u001b[0;32mIn[42], line 26\u001b[0m\n\u001b[1;32m     22\u001b[0m     puts_df[\u001b[38;5;124m'\u001b[39m\u001b[38;5;124mType\u001b[39m\u001b[38;5;124m'\u001b[39m] \u001b[38;5;241m=\u001b[39m \u001b[38;5;124m'\u001b[39m\u001b[38;5;124mPut\u001b[39m\u001b[38;5;124m'\u001b[39m\n\u001b[1;32m     23\u001b[0m     options_list\u001b[38;5;241m.\u001b[39mappend(puts_df)\n\u001b[0;32m---> 26\u001b[0m options_df \u001b[38;5;241m=\u001b[39m \u001b[43mpd\u001b[49m\u001b[38;5;241;43m.\u001b[39;49m\u001b[43mconcat\u001b[49m\u001b[43m(\u001b[49m\u001b[43moptions_list\u001b[49m\u001b[43m,\u001b[49m\u001b[43m \u001b[49m\u001b[43mignore_index\u001b[49m\u001b[38;5;241;43m=\u001b[39;49m\u001b[38;5;28;43;01mTrue\u001b[39;49;00m\u001b[43m)\u001b[49m\n\u001b[1;32m     27\u001b[0m options_df\u001b[38;5;241m.\u001b[39minsert(\u001b[38;5;241m0\u001b[39m, \u001b[38;5;124m'\u001b[39m\u001b[38;5;124mSymbol\u001b[39m\u001b[38;5;124m'\u001b[39m, symbol)\n\u001b[1;32m     29\u001b[0m column_to_move \u001b[38;5;241m=\u001b[39m options_df\u001b[38;5;241m.\u001b[39mpop(\u001b[38;5;124m'\u001b[39m\u001b[38;5;124mexpiration_date\u001b[39m\u001b[38;5;124m'\u001b[39m)\n",
      "File \u001b[0;32m~/Desktop/PyOptions/opt_env/lib/python3.11/site-packages/pandas/core/reshape/concat.py:382\u001b[0m, in \u001b[0;36mconcat\u001b[0;34m(objs, axis, join, ignore_index, keys, levels, names, verify_integrity, sort, copy)\u001b[0m\n\u001b[1;32m    379\u001b[0m \u001b[38;5;28;01melif\u001b[39;00m copy \u001b[38;5;129;01mand\u001b[39;00m using_copy_on_write():\n\u001b[1;32m    380\u001b[0m     copy \u001b[38;5;241m=\u001b[39m \u001b[38;5;28;01mFalse\u001b[39;00m\n\u001b[0;32m--> 382\u001b[0m op \u001b[38;5;241m=\u001b[39m \u001b[43m_Concatenator\u001b[49m\u001b[43m(\u001b[49m\n\u001b[1;32m    383\u001b[0m \u001b[43m    \u001b[49m\u001b[43mobjs\u001b[49m\u001b[43m,\u001b[49m\n\u001b[1;32m    384\u001b[0m \u001b[43m    \u001b[49m\u001b[43maxis\u001b[49m\u001b[38;5;241;43m=\u001b[39;49m\u001b[43maxis\u001b[49m\u001b[43m,\u001b[49m\n\u001b[1;32m    385\u001b[0m \u001b[43m    \u001b[49m\u001b[43mignore_index\u001b[49m\u001b[38;5;241;43m=\u001b[39;49m\u001b[43mignore_index\u001b[49m\u001b[43m,\u001b[49m\n\u001b[1;32m    386\u001b[0m \u001b[43m    \u001b[49m\u001b[43mjoin\u001b[49m\u001b[38;5;241;43m=\u001b[39;49m\u001b[43mjoin\u001b[49m\u001b[43m,\u001b[49m\n\u001b[1;32m    387\u001b[0m \u001b[43m    \u001b[49m\u001b[43mkeys\u001b[49m\u001b[38;5;241;43m=\u001b[39;49m\u001b[43mkeys\u001b[49m\u001b[43m,\u001b[49m\n\u001b[1;32m    388\u001b[0m \u001b[43m    \u001b[49m\u001b[43mlevels\u001b[49m\u001b[38;5;241;43m=\u001b[39;49m\u001b[43mlevels\u001b[49m\u001b[43m,\u001b[49m\n\u001b[1;32m    389\u001b[0m \u001b[43m    \u001b[49m\u001b[43mnames\u001b[49m\u001b[38;5;241;43m=\u001b[39;49m\u001b[43mnames\u001b[49m\u001b[43m,\u001b[49m\n\u001b[1;32m    390\u001b[0m \u001b[43m    \u001b[49m\u001b[43mverify_integrity\u001b[49m\u001b[38;5;241;43m=\u001b[39;49m\u001b[43mverify_integrity\u001b[49m\u001b[43m,\u001b[49m\n\u001b[1;32m    391\u001b[0m \u001b[43m    \u001b[49m\u001b[43mcopy\u001b[49m\u001b[38;5;241;43m=\u001b[39;49m\u001b[43mcopy\u001b[49m\u001b[43m,\u001b[49m\n\u001b[1;32m    392\u001b[0m \u001b[43m    \u001b[49m\u001b[43msort\u001b[49m\u001b[38;5;241;43m=\u001b[39;49m\u001b[43msort\u001b[49m\u001b[43m,\u001b[49m\n\u001b[1;32m    393\u001b[0m \u001b[43m\u001b[49m\u001b[43m)\u001b[49m\n\u001b[1;32m    395\u001b[0m \u001b[38;5;28;01mreturn\u001b[39;00m op\u001b[38;5;241m.\u001b[39mget_result()\n",
      "File \u001b[0;32m~/Desktop/PyOptions/opt_env/lib/python3.11/site-packages/pandas/core/reshape/concat.py:445\u001b[0m, in \u001b[0;36m_Concatenator.__init__\u001b[0;34m(self, objs, axis, join, keys, levels, names, ignore_index, verify_integrity, copy, sort)\u001b[0m\n\u001b[1;32m    442\u001b[0m \u001b[38;5;28mself\u001b[39m\u001b[38;5;241m.\u001b[39mverify_integrity \u001b[38;5;241m=\u001b[39m verify_integrity\n\u001b[1;32m    443\u001b[0m \u001b[38;5;28mself\u001b[39m\u001b[38;5;241m.\u001b[39mcopy \u001b[38;5;241m=\u001b[39m copy\n\u001b[0;32m--> 445\u001b[0m objs, keys \u001b[38;5;241m=\u001b[39m \u001b[38;5;28;43mself\u001b[39;49m\u001b[38;5;241;43m.\u001b[39;49m\u001b[43m_clean_keys_and_objs\u001b[49m\u001b[43m(\u001b[49m\u001b[43mobjs\u001b[49m\u001b[43m,\u001b[49m\u001b[43m \u001b[49m\u001b[43mkeys\u001b[49m\u001b[43m)\u001b[49m\n\u001b[1;32m    447\u001b[0m \u001b[38;5;66;03m# figure out what our result ndim is going to be\u001b[39;00m\n\u001b[1;32m    448\u001b[0m ndims \u001b[38;5;241m=\u001b[39m \u001b[38;5;28mself\u001b[39m\u001b[38;5;241m.\u001b[39m_get_ndims(objs)\n",
      "File \u001b[0;32m~/Desktop/PyOptions/opt_env/lib/python3.11/site-packages/pandas/core/reshape/concat.py:507\u001b[0m, in \u001b[0;36m_Concatenator._clean_keys_and_objs\u001b[0;34m(self, objs, keys)\u001b[0m\n\u001b[1;32m    504\u001b[0m     objs_list \u001b[38;5;241m=\u001b[39m \u001b[38;5;28mlist\u001b[39m(objs)\n\u001b[1;32m    506\u001b[0m \u001b[38;5;28;01mif\u001b[39;00m \u001b[38;5;28mlen\u001b[39m(objs_list) \u001b[38;5;241m==\u001b[39m \u001b[38;5;241m0\u001b[39m:\n\u001b[0;32m--> 507\u001b[0m     \u001b[38;5;28;01mraise\u001b[39;00m \u001b[38;5;167;01mValueError\u001b[39;00m(\u001b[38;5;124m\"\u001b[39m\u001b[38;5;124mNo objects to concatenate\u001b[39m\u001b[38;5;124m\"\u001b[39m)\n\u001b[1;32m    509\u001b[0m \u001b[38;5;28;01mif\u001b[39;00m keys \u001b[38;5;129;01mis\u001b[39;00m \u001b[38;5;28;01mNone\u001b[39;00m:\n\u001b[1;32m    510\u001b[0m     objs_list \u001b[38;5;241m=\u001b[39m \u001b[38;5;28mlist\u001b[39m(com\u001b[38;5;241m.\u001b[39mnot_none(\u001b[38;5;241m*\u001b[39mobjs_list))\n",
      "\u001b[0;31mValueError\u001b[0m: No objects to concatenate"
     ]
    }
   ],
   "source": [
    "print(nyse_symbols[0:5])\n",
    "\n",
    "\n",
    "\n",
    "for symbol in nyse_symbols[0:5]:\n",
    "    ticker = yf.Ticker(symbol)\n",
    "\n",
    "    # Create a DataFrame with expiration dates\n",
    "    expiration_df = pd.DataFrame({'expiration_date': ticker.options})\n",
    "\n",
    "    # Apply the function to each expiration date in the DataFrame\n",
    "    expiration_df['days_until'] = expiration_df['expiration_date'].apply(days_until)\n",
    "    expiration_df = expiration_df[expiration_df['days_until'] <= days_to_expiration]\n",
    "    \n",
    "    options_list = []\n",
    "    for expiration_date in list(expiration_df['expiration_date']):\n",
    "        options_chain = ticker.option_chain(expiration_date)\n",
    "        \n",
    "        puts_df = options_chain.puts\n",
    "        puts_df = puts_df.drop(columns=['contractSize', 'currency', 'lastTradeDate', 'contractSymbol'])\n",
    "        puts_df['expiration_date'] = expiration_date\n",
    "        puts_df['Type'] = 'Put'\n",
    "        options_list.append(puts_df)\n",
    "        \n",
    "    try:\n",
    "        options_df = pd.concat(options_list, ignore_index=True)\n",
    "        options_df.insert(0, 'Symbol', symbol)\n",
    "\n",
    "        column_to_move = options_df.pop('expiration_date')\n",
    "        options_df.insert(1, 'expiration_date', column_to_move)\n",
    "    exceptValueError\n",
    "\n",
    "options_df\n",
    "\n",
    "\n"
   ]
  },
  {
   "cell_type": "code",
   "execution_count": null,
   "metadata": {},
   "outputs": [],
   "source": [
    "#  Create naked put screener\n",
    "# Basic filters\n",
    "put_screener_df = options_df[\n",
    "    (options_df['Type'] == 'Put') & \n",
    "    (options_df['inTheMoney'] == False)\n",
    "    ]\n",
    "\n",
    "# numerical filter\n",
    "put_screener_df = put_screener_df[\n",
    "    (put_screener_df['volume'] > option_vol) &\n",
    "    (put_screener_df['openInterest'] > open_int) \n",
    "    ]\n",
    "\n",
    "cols_to_drop_put = [\n",
    "    'change',\n",
    "    'inTheMoney',\n",
    "    'Type',\n",
    "    'impliedVolatility',\n",
    "    'bid',\n",
    "    'percentChange'\n",
    "    ]\n",
    "\n",
    "put_screener_df = put_screener_df.drop(columns=cols_to_drop_put)\n",
    "put_screener_df['days_until'] = put_screener_df['expiration_date'].apply(days_until)\n",
    "put_screener_df['Stock_price'] = ticker.history()['Close'].iloc[-1]\n",
    "\n",
    "\n",
    "\n",
    "\n",
    "greeks_df = put_screener_df.apply(get_greeks, axis=1)\n",
    "\n",
    "# Combine with the original DataFrame\n",
    "result_df = pd.concat([put_screener_df, greeks_df], axis=1)\n",
    "result_df"
   ]
  }
 ],
 "metadata": {
  "kernelspec": {
   "display_name": "opt_env",
   "language": "python",
   "name": "python3"
  },
  "language_info": {
   "codemirror_mode": {
    "name": "ipython",
    "version": 3
   },
   "file_extension": ".py",
   "mimetype": "text/x-python",
   "name": "python",
   "nbconvert_exporter": "python",
   "pygments_lexer": "ipython3",
   "version": "3.11.5"
  }
 },
 "nbformat": 4,
 "nbformat_minor": 2
}
