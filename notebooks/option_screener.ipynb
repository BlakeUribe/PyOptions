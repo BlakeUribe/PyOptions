{
 "cells": [
  {
   "cell_type": "code",
   "execution_count": 1,
   "metadata": {},
   "outputs": [],
   "source": [
    "import pandas as pd\n",
    "import yfinance as yf\n",
    "import os\n",
    "from datetime import datetime, timedelta\n",
    "import numpy as np\n",
    "\n",
    "import py_vollib.black_scholes.greeks.analytical as greeks\n",
    "from py_vollib.black_scholes_merton.implied_volatility import implied_volatility\n",
    "import pandas_datareader.data as web\n",
    "import pandas as pd \n"
   ]
  },
  {
   "cell_type": "code",
   "execution_count": 2,
   "metadata": {},
   "outputs": [],
   "source": [
    "def get_greeks(row):\n",
    "    # Get today's 1-year Treasury Rate\n",
    "    today = datetime.today()\n",
    "    yesterday = today - timedelta(days=3)\n",
    "    treasury_rate_1yr = web.DataReader('DGS1', 'fred', yesterday, today).iloc[-1].values[0]\n",
    "\n",
    "    T = row['days_until'] / 365\n",
    "    r = treasury_rate_1yr / 100  # Risk-free rate (annual)\n",
    "\n",
    "    # Use scalar values for implied_volatility\n",
    "    sigma = implied_volatility(row['lastPrice'], row['Stock_price'], row['strike'], T, r, 0, 'p')\n",
    "\n",
    "    # Calculate the Greeks\n",
    "    return pd.Series({\n",
    "        'Delta': greeks.delta('p', row['Stock_price'], row['strike'], T, r, sigma),\n",
    "        'Gamma': greeks.gamma('p', row['Stock_price'], row['strike'], T, r, sigma),\n",
    "        'Vega': greeks.vega('p', row['Stock_price'], row['strike'], T, r, sigma),\n",
    "        'Theta': greeks.theta('p', row['Stock_price'], row['strike'], T, r, sigma),\n",
    "        'Rho': greeks.rho('p', row['Stock_price'], row['strike'], T, r, sigma),\n",
    "        'Implied_vol (%)': sigma * 100\n",
    "    })\n"
   ]
  },
  {
   "cell_type": "code",
   "execution_count": 3,
   "metadata": {},
   "outputs": [
    {
     "name": "stdout",
     "output_type": "stream",
     "text": [
      "/Users/blakeuribe/Desktop/PyOptions\n"
     ]
    }
   ],
   "source": [
    "if os.getcwd() != '/Users/blakeuribe/Desktop/PyOptions':\n",
    "    os.chdir('..') \n",
    "print(os.getcwd())"
   ]
  },
  {
   "cell_type": "code",
   "execution_count": 21,
   "metadata": {},
   "outputs": [
    {
     "data": {
      "text/plain": [
       "7029"
      ]
     },
     "execution_count": 21,
     "metadata": {},
     "output_type": "execute_result"
    }
   ],
   "source": [
    "nyse_symbols = pd.read_csv('data/raw_data/nasdaq_screener_1725126512148.csv')['Symbol'].unique()\n",
    "nyse_symbols"
   ]
  },
  {
   "cell_type": "code",
   "execution_count": 5,
   "metadata": {},
   "outputs": [],
   "source": [
    "symbol = 'atha'\n",
    "ticker = yf.Ticker(symbol)\n",
    "\n",
    "# gloabl variables \n",
    "days_to_expiration = 60 #less than"
   ]
  },
  {
   "cell_type": "code",
   "execution_count": 6,
   "metadata": {},
   "outputs": [
    {
     "data": {
      "text/html": [
       "<div>\n",
       "<style scoped>\n",
       "    .dataframe tbody tr th:only-of-type {\n",
       "        vertical-align: middle;\n",
       "    }\n",
       "\n",
       "    .dataframe tbody tr th {\n",
       "        vertical-align: top;\n",
       "    }\n",
       "\n",
       "    .dataframe thead th {\n",
       "        text-align: right;\n",
       "    }\n",
       "</style>\n",
       "<table border=\"1\" class=\"dataframe\">\n",
       "  <thead>\n",
       "    <tr style=\"text-align: right;\">\n",
       "      <th></th>\n",
       "      <th>expiration_date</th>\n",
       "      <th>days_until</th>\n",
       "    </tr>\n",
       "  </thead>\n",
       "  <tbody>\n",
       "    <tr>\n",
       "      <th>0</th>\n",
       "      <td>2024-09-20</td>\n",
       "      <td>20</td>\n",
       "    </tr>\n",
       "    <tr>\n",
       "      <th>1</th>\n",
       "      <td>2024-10-18</td>\n",
       "      <td>48</td>\n",
       "    </tr>\n",
       "  </tbody>\n",
       "</table>\n",
       "</div>"
      ],
      "text/plain": [
       "  expiration_date  days_until\n",
       "0      2024-09-20          20\n",
       "1      2024-10-18          48"
      ]
     },
     "execution_count": 6,
     "metadata": {},
     "output_type": "execute_result"
    }
   ],
   "source": [
    "\n",
    "\n",
    "# Create a DataFrame with expiration dates\n",
    "expiration_df = pd.DataFrame({'expiration_date': ticker.options})\n",
    "\n",
    "# Define a function to calculate days until a target date\n",
    "def days_until(date_str):\n",
    "    target_date = datetime.strptime(date_str, '%Y-%m-%d').date()\n",
    "    current_date = datetime.now().date()\n",
    "    days_until_target = (target_date - current_date).days\n",
    "    return days_until_target\n",
    "\n",
    "# Apply the function to each expiration date in the DataFrame\n",
    "expiration_df['days_until'] = expiration_df['expiration_date'].apply(days_until)\n",
    "expiration_df = expiration_df[expiration_df['days_until'] <= days_to_expiration]\n",
    "expiration_df"
   ]
  },
  {
   "cell_type": "code",
   "execution_count": 7,
   "metadata": {},
   "outputs": [],
   "source": [
    "options_list = []\n",
    "\n",
    "for expiration_date in list(expiration_df['expiration_date']):\n",
    "    options_chain = ticker.option_chain(expiration_date)\n",
    "    \n",
    "    calls_df = options_chain.calls\n",
    "    puts_df = options_chain.puts\n",
    "    \n",
    "    calls_df = calls_df.drop(columns=['contractSize', 'currency', 'lastTradeDate', 'contractSymbol'])\n",
    "    puts_df = puts_df.drop(columns=['contractSize', 'currency', 'lastTradeDate', 'contractSymbol'])\n",
    "    \n",
    "    calls_df['expiration_date'] = expiration_date\n",
    "    puts_df['expiration_date'] = expiration_date\n",
    "    \n",
    "    calls_df['Type'] = 'Call'\n",
    "    puts_df['Type'] = 'Put'\n",
    "    \n",
    "    options_list.append(calls_df)\n",
    "    options_list.append(puts_df)\n",
    "\n",
    "options_df = pd.concat(options_list, ignore_index=True)\n",
    "options_df.insert(0, 'Symbol', symbol)\n",
    "\n",
    "column_to_move = options_df.pop('expiration_date')\n",
    "options_df.insert(1, 'expiration_date', column_to_move)"
   ]
  },
  {
   "cell_type": "markdown",
   "metadata": {},
   "source": [
    "Naked Put screener\n",
    "- Use barcahrt sceneer "
   ]
  },
  {
   "cell_type": "code",
   "execution_count": 8,
   "metadata": {},
   "outputs": [
    {
     "data": {
      "text/html": [
       "<div>\n",
       "<style scoped>\n",
       "    .dataframe tbody tr th:only-of-type {\n",
       "        vertical-align: middle;\n",
       "    }\n",
       "\n",
       "    .dataframe tbody tr th {\n",
       "        vertical-align: top;\n",
       "    }\n",
       "\n",
       "    .dataframe thead th {\n",
       "        text-align: right;\n",
       "    }\n",
       "</style>\n",
       "<table border=\"1\" class=\"dataframe\">\n",
       "  <thead>\n",
       "    <tr style=\"text-align: right;\">\n",
       "      <th></th>\n",
       "      <th>Symbol</th>\n",
       "      <th>expiration_date</th>\n",
       "      <th>strike</th>\n",
       "      <th>lastPrice</th>\n",
       "      <th>ask</th>\n",
       "      <th>volume</th>\n",
       "      <th>openInterest</th>\n",
       "      <th>days_until</th>\n",
       "      <th>Stock_price</th>\n",
       "    </tr>\n",
       "  </thead>\n",
       "  <tbody>\n",
       "    <tr>\n",
       "      <th>3</th>\n",
       "      <td>atha</td>\n",
       "      <td>2024-09-20</td>\n",
       "      <td>2.5</td>\n",
       "      <td>0.41</td>\n",
       "      <td>0.45</td>\n",
       "      <td>738</td>\n",
       "      <td>4147</td>\n",
       "      <td>20</td>\n",
       "      <td>3.09</td>\n",
       "    </tr>\n",
       "    <tr>\n",
       "      <th>9</th>\n",
       "      <td>atha</td>\n",
       "      <td>2024-10-18</td>\n",
       "      <td>2.5</td>\n",
       "      <td>0.90</td>\n",
       "      <td>1.00</td>\n",
       "      <td>295</td>\n",
       "      <td>2551</td>\n",
       "      <td>48</td>\n",
       "      <td>3.09</td>\n",
       "    </tr>\n",
       "  </tbody>\n",
       "</table>\n",
       "</div>"
      ],
      "text/plain": [
       "  Symbol expiration_date  strike  lastPrice   ask  volume  openInterest  \\\n",
       "3   atha      2024-09-20     2.5       0.41  0.45     738          4147   \n",
       "9   atha      2024-10-18     2.5       0.90  1.00     295          2551   \n",
       "\n",
       "   days_until  Stock_price  \n",
       "3          20         3.09  \n",
       "9          48         3.09  "
      ]
     },
     "execution_count": 8,
     "metadata": {},
     "output_type": "execute_result"
    }
   ],
   "source": [
    "# gloabl variables \n",
    "option_vol = 100 #greater than \n",
    "open_int = 500 #less than \n",
    "delta = [0.20, 0.40] #between \n",
    "\n",
    "# Basic filters\n",
    "put_screener_df = options_df[\n",
    "    (options_df['Type'] == 'Put') & \n",
    "    (options_df['inTheMoney'] == False)\n",
    "    ]\n",
    "\n",
    "# numerical filter\n",
    "put_screener_df = put_screener_df[\n",
    "    (put_screener_df['volume'] > option_vol) &\n",
    "    (put_screener_df['openInterest'] > open_int) \n",
    "    ]\n",
    "\n",
    "cols_to_drop_put = [\n",
    "    'change',\n",
    "    'inTheMoney',\n",
    "    'Type',\n",
    "    'impliedVolatility',\n",
    "    'bid',\n",
    "    'percentChange'\n",
    "]\n",
    "\n",
    "put_screener_df = put_screener_df.drop(columns=cols_to_drop_put)\n",
    "put_screener_df['days_until'] = put_screener_df['expiration_date'].apply(days_until)\n",
    "put_screener_df['Stock_price'] = ticker.history()['Close'].iloc[-1]\n",
    "\n",
    "put_screener_df"
   ]
  },
  {
   "cell_type": "code",
   "execution_count": 9,
   "metadata": {},
   "outputs": [],
   "source": [
    "option_type = 'p'\n",
    "\n",
    "price = 0.41\n",
    "S = 3.09  # Current price of the underlying asset\n",
    "X = 2.50  # Strike price of the option\n",
    "T = 20  # Time to maturity in years\n"
   ]
  },
  {
   "cell_type": "code",
   "execution_count": 18,
   "metadata": {},
   "outputs": [
    {
     "data": {
      "text/html": [
       "<div>\n",
       "<style scoped>\n",
       "    .dataframe tbody tr th:only-of-type {\n",
       "        vertical-align: middle;\n",
       "    }\n",
       "\n",
       "    .dataframe tbody tr th {\n",
       "        vertical-align: top;\n",
       "    }\n",
       "\n",
       "    .dataframe thead th {\n",
       "        text-align: right;\n",
       "    }\n",
       "</style>\n",
       "<table border=\"1\" class=\"dataframe\">\n",
       "  <thead>\n",
       "    <tr style=\"text-align: right;\">\n",
       "      <th></th>\n",
       "      <th>Symbol</th>\n",
       "      <th>expiration_date</th>\n",
       "      <th>strike</th>\n",
       "      <th>lastPrice</th>\n",
       "      <th>ask</th>\n",
       "      <th>volume</th>\n",
       "      <th>openInterest</th>\n",
       "      <th>days_until</th>\n",
       "      <th>Stock_price</th>\n",
       "      <th>Delta</th>\n",
       "      <th>Gamma</th>\n",
       "      <th>Vega</th>\n",
       "      <th>Theta</th>\n",
       "      <th>Rho</th>\n",
       "      <th>Implied_vol (%)</th>\n",
       "    </tr>\n",
       "  </thead>\n",
       "  <tbody>\n",
       "    <tr>\n",
       "      <th>3</th>\n",
       "      <td>atha</td>\n",
       "      <td>2024-09-20</td>\n",
       "      <td>2.5</td>\n",
       "      <td>0.41</td>\n",
       "      <td>0.45</td>\n",
       "      <td>738</td>\n",
       "      <td>4147</td>\n",
       "      <td>20</td>\n",
       "      <td>3.09</td>\n",
       "      <td>-0.25581</td>\n",
       "      <td>0.170778</td>\n",
       "      <td>0.002326</td>\n",
       "      <td>-0.01500</td>\n",
       "      <td>-0.000658</td>\n",
       "      <td>260.384456</td>\n",
       "    </tr>\n",
       "    <tr>\n",
       "      <th>9</th>\n",
       "      <td>atha</td>\n",
       "      <td>2024-10-18</td>\n",
       "      <td>2.5</td>\n",
       "      <td>0.90</td>\n",
       "      <td>1.00</td>\n",
       "      <td>295</td>\n",
       "      <td>2551</td>\n",
       "      <td>48</td>\n",
       "      <td>3.09</td>\n",
       "      <td>-0.22546</td>\n",
       "      <td>0.086865</td>\n",
       "      <td>0.003365</td>\n",
       "      <td>-0.01062</td>\n",
       "      <td>-0.002100</td>\n",
       "      <td>308.475229</td>\n",
       "    </tr>\n",
       "  </tbody>\n",
       "</table>\n",
       "</div>"
      ],
      "text/plain": [
       "  Symbol expiration_date  strike  lastPrice   ask  volume  openInterest  \\\n",
       "3   atha      2024-09-20     2.5       0.41  0.45     738          4147   \n",
       "9   atha      2024-10-18     2.5       0.90  1.00     295          2551   \n",
       "\n",
       "   days_until  Stock_price    Delta     Gamma      Vega    Theta       Rho  \\\n",
       "3          20         3.09 -0.25581  0.170778  0.002326 -0.01500 -0.000658   \n",
       "9          48         3.09 -0.22546  0.086865  0.003365 -0.01062 -0.002100   \n",
       "\n",
       "   Implied_vol (%)  \n",
       "3       260.384456  \n",
       "9       308.475229  "
      ]
     },
     "execution_count": 18,
     "metadata": {},
     "output_type": "execute_result"
    }
   ],
   "source": [
    "greeks_df = put_screener_df.apply(get_greeks, axis=1)\n",
    "\n",
    "# Combine with the original DataFrame\n",
    "result_df = pd.concat([put_screener_df, greeks_df], axis=1)\n",
    "result_df"
   ]
  }
 ],
 "metadata": {
  "kernelspec": {
   "display_name": "opt_env",
   "language": "python",
   "name": "python3"
  },
  "language_info": {
   "codemirror_mode": {
    "name": "ipython",
    "version": 3
   },
   "file_extension": ".py",
   "mimetype": "text/x-python",
   "name": "python",
   "nbconvert_exporter": "python",
   "pygments_lexer": "ipython3",
   "version": "3.11.5"
  }
 },
 "nbformat": 4,
 "nbformat_minor": 2
}
