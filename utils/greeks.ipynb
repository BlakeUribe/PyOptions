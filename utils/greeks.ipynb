{
 "cells": [
  {
   "cell_type": "code",
   "execution_count": 46,
   "metadata": {},
   "outputs": [],
   "source": [
    "import py_vollib.black_scholes.greeks.analytical as greeks\n",
    "from py_vollib.black_scholes_merton.implied_volatility import implied_volatility\n",
    "import pandas_datareader.data as web\n",
    "import pandas as pd \n",
    "import datetime"
   ]
  },
  {
   "cell_type": "code",
   "execution_count": 47,
   "metadata": {},
   "outputs": [],
   "source": [
    "\n",
    "\n",
    "def get_greeks(option_price: float, S: float, X: float, days_till_exp: float, option_type: str) -> pd.DataFrame:\n",
    "    # Get today's 1-year Treasury Rate\n",
    "    today = datetime.datetime.today()\n",
    "    yesterday = today - datetime.timedelta(days=3)  # Needs to be 3 to account for weekends, if used on weekends\n",
    "    treasury_rate_1yr = web.DataReader('DGS1', 'fred', yesterday, today).iloc[-1].values[0]\n",
    "    \n",
    "    T = (days_till_exp / 365)\n",
    "    r = (treasury_rate_1yr / 100)  # Risk-free rate (annual)\n",
    "    sigma = implied_volatility(option_price, S, X, T, r, 0, option_type)  # Volatility (annual)\n",
    "\n",
    "    # Calculate the Greeks and return them as a DataFrame\n",
    "    return pd.DataFrame(\n",
    "        {\n",
    "            'Delta': [greeks.delta(option_type, S, X, T, r, sigma)],\n",
    "            'Gamma': [greeks.gamma(option_type, S, X, T, r, sigma)],\n",
    "            'Vega': [greeks.vega(option_type, S, X, T, r, sigma)],\n",
    "            'Theta': [greeks.theta(option_type, S, X, T, r, sigma)],\n",
    "            'Rho': [greeks.rho(option_type, S, X, T, r, sigma)], \n",
    "            'Implied_vol (%)': [sigma*100]\n",
    "        }\n",
    "    )"
   ]
  },
  {
   "cell_type": "code",
   "execution_count": 48,
   "metadata": {},
   "outputs": [],
   "source": [
    "option_type = 'p'\n",
    "\n",
    "price = 0.41\n",
    "S = 3.09  # Current price of the underlying asset\n",
    "X = 2.50  # Strike price of the option\n",
    "T = 20  # Time to maturity in years\n"
   ]
  },
  {
   "cell_type": "code",
   "execution_count": 49,
   "metadata": {},
   "outputs": [
    {
     "data": {
      "text/html": [
       "<div>\n",
       "<style scoped>\n",
       "    .dataframe tbody tr th:only-of-type {\n",
       "        vertical-align: middle;\n",
       "    }\n",
       "\n",
       "    .dataframe tbody tr th {\n",
       "        vertical-align: top;\n",
       "    }\n",
       "\n",
       "    .dataframe thead th {\n",
       "        text-align: right;\n",
       "    }\n",
       "</style>\n",
       "<table border=\"1\" class=\"dataframe\">\n",
       "  <thead>\n",
       "    <tr style=\"text-align: right;\">\n",
       "      <th></th>\n",
       "      <th>Delta</th>\n",
       "      <th>Gamma</th>\n",
       "      <th>Vega</th>\n",
       "      <th>Theta</th>\n",
       "      <th>Rho</th>\n",
       "      <th>Implied_vol (%)</th>\n",
       "    </tr>\n",
       "  </thead>\n",
       "  <tbody>\n",
       "    <tr>\n",
       "      <th>0</th>\n",
       "      <td>-0.25581</td>\n",
       "      <td>0.17078</td>\n",
       "      <td>0.00233</td>\n",
       "      <td>-0.015</td>\n",
       "      <td>-0.00066</td>\n",
       "      <td>260.38447</td>\n",
       "    </tr>\n",
       "  </tbody>\n",
       "</table>\n",
       "</div>"
      ],
      "text/plain": [
       "     Delta    Gamma     Vega  Theta      Rho  Implied_vol (%)\n",
       "0 -0.25581  0.17078  0.00233 -0.015 -0.00066        260.38447"
      ]
     },
     "execution_count": 49,
     "metadata": {},
     "output_type": "execute_result"
    }
   ],
   "source": [
    "get_greeks(price, S, X, T, option_type).round(5)"
   ]
  }
 ],
 "metadata": {
  "kernelspec": {
   "display_name": "opt_env",
   "language": "python",
   "name": "python3"
  },
  "language_info": {
   "codemirror_mode": {
    "name": "ipython",
    "version": 3
   },
   "file_extension": ".py",
   "mimetype": "text/x-python",
   "name": "python",
   "nbconvert_exporter": "python",
   "pygments_lexer": "ipython3",
   "version": "3.11.5"
  }
 },
 "nbformat": 4,
 "nbformat_minor": 2
}
